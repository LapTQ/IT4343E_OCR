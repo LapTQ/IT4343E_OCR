{
  "nbformat": 4,
  "nbformat_minor": 0,
  "metadata": {
    "colab": {
      "name": "image_captioning.ipynb",
      "provenance": [],
      "include_colab_link": true
    },
    "kernelspec": {
      "name": "python3",
      "display_name": "Python 3"
    },
    "language_info": {
      "name": "python"
    },
    "accelerator": "GPU"
  },
  "cells": [
    {
      "cell_type": "markdown",
      "metadata": {
        "id": "view-in-github",
        "colab_type": "text"
      },
      "source": [
        "<a href=\"https://colab.research.google.com/github/LapTQ/image_captioning/blob/main/image_captioning.ipynb\" target=\"_parent\"><img src=\"https://colab.research.google.com/assets/colab-badge.svg\" alt=\"Open In Colab\"/></a>"
      ]
    },
    {
      "cell_type": "markdown",
      "source": [
        "## Install dependencies and import"
      ],
      "metadata": {
        "id": "wmjNtB24Xly7"
      }
    },
    {
      "cell_type": "code",
      "source": [
        "!git clone https://github.com/hungpham13/Vietnamese-HTR.git\n",
        "\n",
        "!pip install jiwer"
      ],
      "metadata": {
        "colab": {
          "base_uri": "https://localhost:8080/"
        },
        "id": "tQ_6PnrTXw-c",
        "outputId": "298a4283-90b0-4d33-849a-5fc01cd352e4"
      },
      "execution_count": 1,
      "outputs": [
        {
          "output_type": "stream",
          "name": "stdout",
          "text": [
            "Cloning into 'Vietnamese-HTR'...\n",
            "remote: Enumerating objects: 2403, done.\u001b[K\n",
            "remote: Counting objects: 100% (4/4), done.\u001b[K\n",
            "remote: Compressing objects: 100% (3/3), done.\u001b[K\n",
            "remote: Total 2403 (delta 0), reused 4 (delta 0), pack-reused 2399\u001b[K\n",
            "Receiving objects: 100% (2403/2403), 427.59 MiB | 13.76 MiB/s, done.\n",
            "Checking out files: 100% (2395/2395), done.\n",
            "Collecting jiwer\n",
            "  Downloading jiwer-2.3.0-py3-none-any.whl (15 kB)\n",
            "Collecting python-Levenshtein==0.12.2\n",
            "  Downloading python-Levenshtein-0.12.2.tar.gz (50 kB)\n",
            "\u001b[K     |████████████████████████████████| 50 kB 1.9 MB/s \n",
            "\u001b[?25hRequirement already satisfied: setuptools in /usr/local/lib/python3.7/dist-packages (from python-Levenshtein==0.12.2->jiwer) (57.4.0)\n",
            "Building wheels for collected packages: python-Levenshtein\n",
            "  Building wheel for python-Levenshtein (setup.py) ... \u001b[?25l\u001b[?25hdone\n",
            "  Created wheel for python-Levenshtein: filename=python_Levenshtein-0.12.2-cp37-cp37m-linux_x86_64.whl size=149868 sha256=0bd5688f1aa6d32d762030ec6bbf2fd31bfe143febcb0b28a8b4d184509f1272\n",
            "  Stored in directory: /root/.cache/pip/wheels/05/5f/ca/7c4367734892581bb5ff896f15027a932c551080b2abd3e00d\n",
            "Successfully built python-Levenshtein\n",
            "Installing collected packages: python-Levenshtein, jiwer\n",
            "Successfully installed jiwer-2.3.0 python-Levenshtein-0.12.2\n"
          ]
        }
      ]
    },
    {
      "cell_type": "code",
      "execution_count": 2,
      "metadata": {
        "id": "rQiOo4_Fd7lh"
      },
      "outputs": [],
      "source": [
        "import os\n",
        "import re\n",
        "import numpy as np\n",
        "import tensorflow as tf\n",
        "from jiwer import wer\n",
        "\n",
        "import matplotlib.pyplot as plt\n",
        "from tensorflow import keras\n",
        "from pathlib import Path\n",
        "import pickle\n",
        "\n",
        "seed = 42\n",
        "np.random.seed(seed)\n",
        "tf.random.set_seed(seed)"
      ]
    },
    {
      "cell_type": "markdown",
      "source": [
        "## Pepare dataset"
      ],
      "metadata": {
        "id": "Udx4VaeBXsnU"
      }
    },
    {
      "cell_type": "code",
      "source": [
        "!head -20 '/content/Vietnamese-HTR/Data 1: Handwriting OCR for Vietnamese Address/0825_DataSamples 1/labels.json'"
      ],
      "metadata": {
        "colab": {
          "base_uri": "https://localhost:8080/"
        },
        "id": "OgkwHIEfYniD",
        "outputId": "197fa0b7-a853-4b7a-d757-e5fa17220c0e"
      },
      "execution_count": 3,
      "outputs": [
        {
          "output_type": "stream",
          "name": "stdout",
          "text": [
            "{\n",
            "    \"1.jpg\": \"Số 3 Nguyễn Ngọc Vũ, Hà Nội\",\n",
            "    \"2.jpg\": \"Số 30 Nguyên Hồng, Láng Hạ, Đống Đa, Hà Nội\",\n",
            "    \"3.jpg\": \"58 Thái Thịnh, Đống Đa, Hà Nội\",\n",
            "    \"4.jpeg\": \"Số 370/8 khu phố 5B, phường Tân Biên, Biên Hòa, Đồng Nai\",\n",
            "    \"5.jpg\": \"Vĩnh Trung Plaza, B, 255-257 đường Hùng Vương, phường Vĩnh Trung\",\n",
            "    \"6.jpg\": \"Tòa nhà 34T, Hoàng Đạo Thúy, Hà Nội\",\n",
            "    \"7.jpg\": \"40 Cát Linh, Đống Đa, Hà Nội\",\n",
            "    \"8.jpg\": \"phòng 101, tầng 1, lô 04-TT5B, khu đô thị Tây Nam Linh Đàm\",\n",
            "    \"9.JPG\": \"Nhà 87 ngõ 416 Đê La Thành\",\n",
            "    \"10.JPG\": \"Up coworking Space, 89 Láng Hạ, Hà Nội\",\n",
            "    \"11.jpg\": \"192 Ngô Đức Kế, quận 1, Hồ Chí Minh\",\n",
            "    \"12.jpg\": \"số 5 Công Trường Mê Linh, phường Bến Nghé, quận 1\",\n",
            "    \"13.jpg\": \"90A đường Mai Xuân Thưởng, tỉnh Gia Lai\",\n",
            "    \"14.jpg\": \"96/7/12B Phạm Văn Đồng, thành phố Pleiku\",\n",
            "    \"15.jpg\": \"168 Ngô Gia Tự, thành phố Hà Tĩnh\"\n",
            "}"
          ]
        }
      ]
    },
    {
      "cell_type": "code",
      "source": [
        "train_img_dir = '/content/Vietnamese-HTR/Data 1: Handwriting OCR for Vietnamese Address/0916_Data Samples 2'\n",
        "test_img_dir = '/content/Vietnamese-HTR/Data 1: Handwriting OCR for Vietnamese Address/1015_Private Test'\n",
        "\n",
        "image_height, image_width = 120, 1900\n",
        "vocab_size = 10000\n",
        "\n",
        "# Fixed length allowed for any sequence\n",
        "seq_length = 25\n",
        "\n",
        "# Dimension for the image embeddings and token embeddings\n",
        "embedding_dim = 512\n",
        "\n",
        "# Per-layer units in the feed-forward network\n",
        "units = 512\n",
        "\n",
        "batch_size = 4\n",
        "epochs = 30\n",
        "AUTOTUNE = tf.data.AUTOTUNE"
      ],
      "metadata": {
        "id": "mjm7Y-lYdZYT"
      },
      "execution_count": 4,
      "outputs": []
    },
    {
      "cell_type": "code",
      "source": [
        "print('Number of training images:', len(list(Path(train_img_dir).glob('*.png'))))\n",
        "print('Number of testing images:', len(list(Path(test_img_dir).glob('*.png'))))"
      ],
      "metadata": {
        "colab": {
          "base_uri": "https://localhost:8080/"
        },
        "id": "GU8HNz-regz_",
        "outputId": "d97cf915-7e3d-486a-f1a6-aff9a4079e0e"
      },
      "execution_count": 5,
      "outputs": [
        {
          "output_type": "stream",
          "name": "stdout",
          "text": [
            "Number of training images: 1823\n",
            "Number of testing images: 549\n"
          ]
        }
      ]
    },
    {
      "cell_type": "code",
      "source": [
        "import json\n",
        "\n",
        "train_json = json.load(\n",
        "    open(train_img_dir + '/labels.json', 'r')\n",
        ")\n",
        "\n",
        "test_json = json.load(\n",
        "    open(test_img_dir + '/labels.json', 'r')\n",
        ")\n",
        "\n",
        "train_data = {os.path.join(train_img_dir, image_name): '<start> ' + label + ' <end>' for image_name, label in train_json.items()}\n",
        "test_data = {os.path.join(test_img_dir, image_name): '<start> ' + label + ' <end>' for image_name, label in test_json.items()}"
      ],
      "metadata": {
        "id": "pQGy_mYAayjJ"
      },
      "execution_count": 6,
      "outputs": []
    },
    {
      "cell_type": "code",
      "source": [
        "def decode_and_resize(img_path):\n",
        "    img_string = tf.io.read_file(img_path)\n",
        "    img = tf.image.decode_png(img_string)\n",
        "\n",
        "    # resize to desired shape\n",
        "    # input is of int [0, 255], but output is of float [0, 255]\n",
        "    img = tf.image.resize_with_pad(img, image_height, image_width)\n",
        "\n",
        "    # invert color      ##############################\n",
        "    img = 255 - img\n",
        "\n",
        "    # preprocess_input accept input of type float [0, 255]\n",
        "    img = keras.applications.densenet.preprocess_input(img)\n",
        "\n",
        "    return img\n",
        "\n",
        "strip_chars = \"!\\\"#$%&'()*+,-./:;<=>?@[\\]^_`{|}~\"\n",
        "strip_chars = strip_chars.replace('<', '')\n",
        "strip_chars = strip_chars.replace('>', '')\n",
        "strip_chars = strip_chars.replace('/', '')\n",
        "strip_chars = strip_chars.replace('-', '')\n",
        "\n",
        "vectorization = keras.layers.TextVectorization(\n",
        "    max_tokens=vocab_size,\n",
        "    output_mode='int',\n",
        "    output_sequence_length=seq_length,\n",
        "    standardize=lambda label: tf.strings.regex_replace(label, \"[%s]\" % re.escape(strip_chars), \"\")\n",
        ")\n",
        "\n",
        "vectorization.adapt(list(train_data.values()))\n",
        "\n",
        "def preprocess_input(img_path, label):\n",
        "    return decode_and_resize(img_path), vectorization(label)\n",
        "\n",
        "def make_dataset(img_paths, labels, training):\n",
        "    assert training is True or training is False\n",
        "\n",
        "    dataset = tf.data.Dataset.from_tensor_slices((img_paths, labels))\n",
        "    dataset = dataset.map(preprocess_input, num_parallel_calls=AUTOTUNE)\n",
        "    dataset = dataset.prefetch(buffer_size=2000)\n",
        "    # dataset = dataset.cache()\n",
        "    if training: \n",
        "        dataset = dataset.shuffle(buffer_size=2000)\n",
        "    dataset = dataset.batch(batch_size)\n",
        "\n",
        "    return dataset\n",
        "\n",
        "\n",
        "train_ds = make_dataset(\n",
        "    train_data.keys(),\n",
        "    train_data.values(),\n",
        "    training = True\n",
        ")\n",
        "test_ds = make_dataset(\n",
        "    test_data.keys(),\n",
        "    test_data.values(),\n",
        "    training = False\n",
        ")"
      ],
      "metadata": {
        "id": "q0rEPI32rEMH"
      },
      "execution_count": 7,
      "outputs": []
    },
    {
      "cell_type": "code",
      "source": [
        "word_to_index = keras.layers.StringLookup(\n",
        "    mask_token=\"\",\n",
        "    vocabulary=vectorization.get_vocabulary())\n",
        "index_to_word = keras.layers.StringLookup(\n",
        "    mask_token=\"\",\n",
        "    vocabulary=vectorization.get_vocabulary(),\n",
        "    invert=True)"
      ],
      "metadata": {
        "id": "GO1E-q18YECU"
      },
      "execution_count": 9,
      "outputs": []
    },
    {
      "cell_type": "code",
      "source": [
        "# for images, labels in train_ds.take(1):\n",
        "#     for image, label in zip(images, labels):\n",
        "#         plt.imshow(image)\n",
        "#         plt.show()\n",
        "#         print(label)"
      ],
      "metadata": {
        "id": "e-bul7yM1PyY"
      },
      "execution_count": 8,
      "outputs": []
    },
    {
      "cell_type": "markdown",
      "source": [
        "## Build model"
      ],
      "metadata": {
        "id": "d_emKWUcXxjb"
      }
    },
    {
      "cell_type": "code",
      "source": [
        "class CNN_Encoder(keras.Model):\n",
        "    # Since you have already extracted the features and dumped it\n",
        "    # This encoder passes those features through a Fully connected layer\n",
        "    def __init__(self, embedding_dim):\n",
        "        super(CNN_Encoder, self).__init__()\n",
        "\n",
        "        self.feature_extractor = keras.applications.DenseNet121(\n",
        "            include_top=False,\n",
        "            input_shape=(image_height, image_width, 3),\n",
        "\n",
        "        )\n",
        "        \n",
        "        self.fc = keras.layers.Dense(embedding_dim)\n",
        "\n",
        "    def call(self, x):\n",
        "        # get the feature map from DenseNet\n",
        "        x = self.feature_extractor(x)\n",
        "        # squash the feature map from shape [f_height, f_width, f_channel]\n",
        "        # to shape [f_height x f_width, f channel]\n",
        "        x = keras.layers.Reshape((-1, x.shape[-1]))(x)\n",
        "        # shape after fc == (f_height x f_width, embedding_dim)\n",
        "        x = self.fc(x)\n",
        "        x = tf.nn.relu(x)\n",
        "        return x"
      ],
      "metadata": {
        "id": "mbX4mMelNBzZ"
      },
      "execution_count": 10,
      "outputs": []
    },
    {
      "cell_type": "code",
      "source": [
        "class BahdanauAttention(keras.Model):\n",
        "    def __init__(self, units):\n",
        "        super(BahdanauAttention, self).__init__()\n",
        "        self.W1 = keras.layers.Dense(units)\n",
        "        self.W2 = keras.layers.Dense(units)\n",
        "        self.V = keras.layers.Dense(1)\n",
        "\n",
        "    def call(self, features, hidden):\n",
        "        # features(CNN_encoder output) shape = (batch_size, f_height x f_width, embedding_dim)\n",
        "\n",
        "        # hidden shape == (batch_size, hidden_size)\n",
        "        # hidden_with_time_axis shape == (batch_size, 1, hidden_size)\n",
        "        hidden_with_time_axis = tf.expand_dims(hidden, 1)\n",
        "\n",
        "        # print('BahdanauAttention: hidden_with_time_axis.shape == ', hidden_with_time_axis.shape)\n",
        "\n",
        "        # attention_hidden_layer shape == (batch_size, f_height x f_width, units)\n",
        "        attention_hidden_layer = tf.nn.tanh(\n",
        "            self.W1(features) + self.W2(hidden_with_time_axis)\n",
        "        )\n",
        "\n",
        "        # score shape == (batch_size, f_height x f_width, 1)\n",
        "        # this gives an unnormalized score for each image feature\n",
        "        score = self.V(attention_hidden_layer)\n",
        "\n",
        "        # print('BahdanauAttention: score.shape == ', score.shape)\n",
        "\n",
        "        # attention_weights shape == (batch_size, f_height x f_width, 1)\n",
        "        attention_weights = tf.nn.softmax(score, axis=1)\n",
        "\n",
        "        # print('BahdanauAttention: attention_weights.shape == ', attention_weights.shape)\n",
        "\n",
        "        # context vector shape after sum = (batch_size, hidden_size)\n",
        "        context_vector = attention_weights * features\n",
        "        # print('BahdanauAttention: context_vector.shape == ', context_vector.shape)\n",
        "        context_vector = tf.reduce_sum(context_vector, axis=1)\n",
        "\n",
        "        return context_vector, attention_weights\n"
      ],
      "metadata": {
        "id": "qhg43tIOYOzU"
      },
      "execution_count": 11,
      "outputs": []
    },
    {
      "cell_type": "markdown",
      "source": [
        "Bahdanau vs Luong"
      ],
      "metadata": {
        "id": "yvghkvH3Ceqf"
      }
    },
    {
      "cell_type": "code",
      "source": [
        "class RNN_Decoder(tf.keras.Model):\n",
        "    def __init__(self, embedding_dim, units, vocab_size):\n",
        "        super(RNN_Decoder, self).__init__()\n",
        "        self.units = units\n",
        "\n",
        "        self.embedding = tf.keras.layers.Embedding(vocab_size, embedding_dim)\n",
        "        self.gru = tf.keras.layers.GRU(self.units,\n",
        "                                    return_sequences=True,\n",
        "                                    return_state=True,\n",
        "                                    recurrent_initializer='glorot_uniform')\n",
        "        self.fc1 = tf.keras.layers.Dense(self.units)\n",
        "        self.fc2 = tf.keras.layers.Dense(vocab_size)\n",
        "\n",
        "        self.attention = BahdanauAttention(self.units)\n",
        "\n",
        "    def call(self, x, features, hidden):\n",
        "        # defining attention as a separate model\n",
        "        context_vector, attention_weights = self.attention(features, hidden)\n",
        "\n",
        "        # print('RNN_Decoder: context_vector.shape == ', context_vector.shape)\n",
        "\n",
        "        # x shape after passing through embedding == (batch_size, 1, embedding_dim)\n",
        "        x = self.embedding(x)\n",
        "\n",
        "        # x shape after concatenation == (batch_size, 1, embedding_dim + hidden_size)\n",
        "        x = tf.concat([tf.expand_dims(context_vector, 1), x], axis=-1)\n",
        "\n",
        "        # passing the concatenated vector to the GRU\n",
        "        output, state = self.gru(x)\n",
        "\n",
        "        # shape == (batch_size, max_length, hidden_size)\n",
        "        x = self.fc1(output)\n",
        "\n",
        "        # x shape == (batch_size * max_length, hidden_size)\n",
        "        x = tf.reshape(x, (-1, x.shape[2]))\n",
        "\n",
        "        # output shape == (batch_size * max_length, vocab)\n",
        "        x = self.fc2(x)\n",
        "\n",
        "        return x, state, attention_weights\n",
        "\n",
        "    def reset_state(self, batch_size):\n",
        "        return tf.zeros((batch_size, self.units))"
      ],
      "metadata": {
        "id": "wOpjbibZVo8U"
      },
      "execution_count": 12,
      "outputs": []
    },
    {
      "cell_type": "code",
      "source": [
        "encoder = CNN_Encoder(embedding_dim)\n",
        "decoder = RNN_Decoder(embedding_dim, units, vectorization.vocabulary_size())"
      ],
      "metadata": {
        "id": "GhKrVuRjEIxj",
        "outputId": "9991e659-691b-4a63-9ae0-f85709c54820",
        "colab": {
          "base_uri": "https://localhost:8080/"
        }
      },
      "execution_count": 13,
      "outputs": [
        {
          "output_type": "stream",
          "name": "stdout",
          "text": [
            "Downloading data from https://storage.googleapis.com/tensorflow/keras-applications/densenet/densenet121_weights_tf_dim_ordering_tf_kernels_notop.h5\n",
            "29089792/29084464 [==============================] - 1s 0us/step\n",
            "29097984/29084464 [==============================] - 1s 0us/step\n"
          ]
        }
      ]
    },
    {
      "cell_type": "code",
      "source": [
        "optimizer = keras.optimizers.Adam(learning_rate=0.0001)\n",
        "loss_object = keras.losses.SparseCategoricalCrossentropy(\n",
        "    from_logits=True, reduction='none'\n",
        ")\n",
        "\n",
        "def loss_function(trues, preds):\n",
        "    loss_ = loss_object(trues, preds)\n",
        "    \n",
        "    mask = tf.cast(\n",
        "        tf.math.logical_not(tf.math.equal(trues, 0)),\n",
        "        dtype=loss_.dtype\n",
        "    )\n",
        "\n",
        "    loss_ *= mask\n",
        "\n",
        "    return tf.reduce_mean(loss_)"
      ],
      "metadata": {
        "id": "5uYOHU4EBIuu"
      },
      "execution_count": 14,
      "outputs": []
    },
    {
      "cell_type": "code",
      "source": [
        "!mkdir checkpoints\n",
        "!mkdir checkpoints/train"
      ],
      "metadata": {
        "id": "7ecufyAFCYVI"
      },
      "execution_count": 15,
      "outputs": []
    },
    {
      "cell_type": "code",
      "source": [
        "checkpoint_path = 'checkpoints/train'\n",
        "ckpt = tf.train.Checkpoint(\n",
        "    encoder=encoder,\n",
        "    decoder=decoder,\n",
        "    optimizer=optimizer\n",
        ")\n",
        "ckpt_manager = tf.train.CheckpointManager(\n",
        "    ckpt,\n",
        "    checkpoint_path,\n",
        "    max_to_keep=5\n",
        ")\n",
        "start_epoch = 0"
      ],
      "metadata": {
        "id": "CP6_XTeBCSyy"
      },
      "execution_count": 16,
      "outputs": []
    },
    {
      "cell_type": "code",
      "source": [
        "if ckpt_manager.latest_checkpoint:\n",
        "    start_epoch = int(ckpt_manager.latest_checkpoint.split('-')[-1])\n",
        "    ckpt.restore(ckpt_manager.latest_checkpoint)"
      ],
      "metadata": {
        "id": "4ehXoIfNWUM0"
      },
      "execution_count": 17,
      "outputs": []
    },
    {
      "cell_type": "code",
      "source": [
        "loss_plot = []\n",
        "wer_plot = []"
      ],
      "metadata": {
        "id": "8A1DmE6jgZUG"
      },
      "execution_count": 18,
      "outputs": []
    },
    {
      "cell_type": "code",
      "source": [
        "@tf.function\n",
        "def train_step(images, targets):\n",
        "    # print('train_step: images.shape == ', images.shape)\n",
        "    loss = 0\n",
        "\n",
        "    # initializing the hidden state for each batch\n",
        "    # because the captions are not related from image to image\n",
        "    hidden = decoder.reset_state(batch_size=targets.shape[0])\n",
        "\n",
        "    dec_input = tf.expand_dims(\n",
        "        [word_to_index('<start>')] * targets.shape[0],\n",
        "        axis=1\n",
        "    )\n",
        "\n",
        "    with tf.GradientTape() as tape:\n",
        "        features = encoder(images)\n",
        "\n",
        "        for i in range(1, targets.shape[1]):\n",
        "            # print('train_step: dec_input.shape == ', dec_input.shape)\n",
        "            # print('train_step: features.shape == ', features.shape)\n",
        "            # print('train_step: hidden.shape == ', hidden.shape)\n",
        "            predictions, hidden, _ = decoder(dec_input, features, hidden)\n",
        "\n",
        "            loss += loss_function(targets[:, i], predictions)\n",
        "\n",
        "            dec_input = tf.expand_dims(targets[:, i], 1)\n",
        "    \n",
        "    total_loss = loss / targets.shape[1]\n",
        "\n",
        "    trainable_variables = encoder.trainable_variables + decoder.trainable_variables\n",
        "\n",
        "    gradients = tape.gradient(loss, trainable_variables)\n",
        "\n",
        "    optimizer.apply_gradients(zip(gradients, trainable_variables))\n",
        "\n",
        "    return loss, total_loss"
      ],
      "metadata": {
        "id": "PnvqHwevgb3J"
      },
      "execution_count": 19,
      "outputs": []
    },
    {
      "cell_type": "code",
      "source": [
        "def predict(images):\n",
        "    # images shape == (batch_size, height, width, channels)\n",
        "\n",
        "    # features shape == (batch_size, f_heigt x f_width, f_channels)\n",
        "    features = encoder(images)\n",
        "\n",
        "    hidden = decoder.reset_state(batch_size=images.shape[0])\n",
        "\n",
        "    results = tf.expand_dims([word_to_index('<start>')] * images.shape[0], axis=1)\n",
        "\n",
        "    for i in range(seq_length):\n",
        "        predictions, hidden, attention_weights = decoder(\n",
        "            results[..., -1:], #(4, 1)\n",
        "            features,\n",
        "            hidden\n",
        "        )\n",
        "\n",
        "        predicted_id = tf.expand_dims(\n",
        "            tf.argmax(predictions, axis=-1),\n",
        "            axis=-1\n",
        "        )\n",
        "\n",
        "        results = tf.concat([results, predicted_id], axis=-1) # tf.expand_dims(predicted_id, 0)\n",
        "        \n",
        "    return results\n",
        "\n",
        "def evaluate(images, targets):\n",
        "    # images shape == (batch_size, height, width, channels)\n",
        "    results = predict(images)\n",
        "    true_texts = [' '.join([tf.compat.as_text(index_to_word(i).numpy()) for i in j[1:-1] if i.numpy() != 0 and i != word_to_index('<end>')])\n",
        "        for j in targets]\n",
        "    pred_texts = [' '.join([tf.compat.as_text(index_to_word(i).numpy()) for i in j[1:] if i != word_to_index('<end>')])\n",
        "        for j in results]\n",
        "    \n",
        "    return wer(true_texts, pred_texts)"
      ],
      "metadata": {
        "id": "dd7DWlL0_B9-"
      },
      "execution_count": 20,
      "outputs": []
    },
    {
      "cell_type": "markdown",
      "source": [
        "## Train"
      ],
      "metadata": {
        "id": "qiXpQlQ8YPiE"
      }
    },
    {
      "cell_type": "code",
      "source": [
        "# tf.config.run_functions_eagerly(False)"
      ],
      "metadata": {
        "id": "D_5c1mhXrr_r"
      },
      "execution_count": null,
      "outputs": []
    },
    {
      "cell_type": "code",
      "source": [
        "import time\n",
        "\n",
        "epochs = 20\n",
        "\n",
        "for epoch in range(start_epoch, epochs):\n",
        "    start = time.time()\n",
        "    total_loss = 0\n",
        "\n",
        "    for batch, (images, targets) in enumerate(train_ds):\n",
        "\n",
        "        batch_loss, t_loss = train_step(images, targets)\n",
        "        total_loss += t_loss\n",
        "\n",
        "        if batch % 50 == 0:\n",
        "            average_batch_loss = batch_loss.numpy() / int(targets.shape[1])\n",
        "            print(f'Epoch: {epoch + 1} Batch: {batch} Loss: {average_batch_loss:.4f}')\n",
        "\n",
        "    loss_plot.append(total_loss / train_ds.cardinality().numpy())\n",
        "\n",
        "    print(f'Epoch: {epoch + 1} Loss: {total_loss/train_ds.cardinality().numpy():.6f}')\n",
        "    print(f'Time taken for 1 epoch {time.time()-start:.2f} sec\\n')\n",
        "\n",
        "    plt.plot(loss_plot)\n",
        "    plt.show()\n",
        "\n",
        "    total_wer = 0\n",
        "    for batch, (images, targets) in enumerate(test_ds):\n",
        "        batch_wer = evaluate(images, targets)\n",
        "        total_wer += batch_wer\n",
        "\n",
        "        if batch % 50 == 0:\n",
        "            print(f'Epoch: {epoch + 1} Batch: {batch} WER: {batch_wer:.2f}')\n",
        "    \n",
        "    wer_plot.append(total_wer / test_ds.cardinality().numpy())\n",
        "\n",
        "    print(f'Epoch: {epoch + 1} WER: {total_wer/test_ds.cardinality().numpy():.2f}')\n",
        "\n",
        "    plt.plot(wer_plot)\n",
        "    plt.show()\n",
        "    \n",
        "\n",
        "    if epoch % 5 == 0:\n",
        "        ckpt_manager.save()"
      ],
      "metadata": {
        "colab": {
          "base_uri": "https://localhost:8080/",
          "height": 1000
        },
        "id": "AlBO4L8gpmQD",
        "outputId": "28b0a066-c14e-4456-ec0f-db697a623848"
      },
      "execution_count": null,
      "outputs": [
        {
          "output_type": "stream",
          "name": "stdout",
          "text": [
            "Epoch: 1 Batch: 0 Loss: 4.2873\n",
            "Epoch: 1 Batch: 50 Loss: 2.8503\n",
            "Epoch: 1 Batch: 100 Loss: 3.0396\n",
            "Epoch: 1 Batch: 150 Loss: 3.0587\n",
            "Epoch: 1 Batch: 200 Loss: 3.3330\n",
            "Epoch: 1 Batch: 250 Loss: 2.6604\n",
            "Epoch: 1 Batch: 300 Loss: 2.9142\n",
            "Epoch: 1 Batch: 350 Loss: 3.0921\n",
            "Epoch: 1 Batch: 400 Loss: 3.0501\n",
            "Epoch: 1 Batch: 450 Loss: 2.7331\n",
            "Epoch: 1 Loss: 3.057521\n",
            "Time taken for 1 epoch 435.44 sec\n",
            "\n"
          ]
        },
        {
          "output_type": "display_data",
          "data": {
            "text/plain": [
              "<Figure size 432x288 with 1 Axes>"
            ],
            "image/png": "[encoded data removed]"
          },
          "metadata": {
            "needs_background": "light"
          }
        },
        {
          "output_type": "stream",
          "name": "stdout",
          "text": [
            "Epoch: 1 Batch: 0 WER: 0.94\n",
            "Epoch: 1 Batch: 50 WER: 0.98\n",
            "Epoch: 1 Batch: 100 WER: 1.00\n",
            "Epoch: 1 WER: 1.01\n"
          ]
        },
        {
          "output_type": "display_data",
          "data": {
            "text/plain": [
              "<Figure size 432x288 with 1 Axes>"
            ],
            "image/png": "[encoded data removed]"
          },
          "metadata": {
            "needs_background": "light"
          }
        },
        {
          "output_type": "stream",
          "name": "stdout",
          "text": [
            "Epoch: 2 Batch: 0 Loss: 2.9141\n",
            "Epoch: 2 Batch: 50 Loss: 3.1148\n",
            "Epoch: 2 Batch: 100 Loss: 2.7421\n",
            "Epoch: 2 Batch: 150 Loss: 2.9340\n",
            "Epoch: 2 Batch: 200 Loss: 2.6799\n",
            "Epoch: 2 Batch: 250 Loss: 2.7757\n",
            "Epoch: 2 Batch: 300 Loss: 2.5071\n",
            "Epoch: 2 Batch: 350 Loss: 2.8133\n",
            "Epoch: 2 Batch: 400 Loss: 2.5370\n",
            "Epoch: 2 Batch: 450 Loss: 2.5155\n",
            "Epoch: 2 Loss: 2.601718\n",
            "Time taken for 1 epoch 330.19 sec\n",
            "\n"
          ]
        },
        {
          "output_type": "display_data",
          "data": {
            "text/plain": [
              "<Figure size 432x288 with 1 Axes>"
            ],
            "image/png": "[encoded data removed]"
          },
          "metadata": {
            "needs_background": "light"
          }
        },
        {
          "output_type": "stream",
          "name": "stdout",
          "text": [
            "Epoch: 2 Batch: 0 WER: 1.80\n",
            "Epoch: 2 Batch: 50 WER: 1.90\n",
            "Epoch: 2 Batch: 100 WER: 1.89\n",
            "Epoch: 2 WER: 2.01\n"
          ]
        },
        {
          "output_type": "display_data",
          "data": {
            "text/plain": [
              "<Figure size 432x288 with 1 Axes>"
            ],
            "image/png": "[encoded data removed]"
          },
          "metadata": {
            "needs_background": "light"
          }
        },
        {
          "output_type": "stream",
          "name": "stdout",
          "text": [
            "Epoch: 3 Batch: 0 Loss: 2.5103\n",
            "Epoch: 3 Batch: 50 Loss: 2.0960\n",
            "Epoch: 3 Batch: 100 Loss: 2.3753\n",
            "Epoch: 3 Batch: 150 Loss: 2.3621\n",
            "Epoch: 3 Batch: 200 Loss: 2.3068\n",
            "Epoch: 3 Batch: 250 Loss: 2.3410\n",
            "Epoch: 3 Batch: 300 Loss: 2.1247\n",
            "Epoch: 3 Batch: 350 Loss: 1.9489\n",
            "Epoch: 3 Batch: 400 Loss: 2.1065\n",
            "Epoch: 3 Batch: 450 Loss: 2.2394\n",
            "Epoch: 3 Loss: 2.293305\n",
            "Time taken for 1 epoch 329.03 sec\n",
            "\n"
          ]
        },
        {
          "output_type": "display_data",
          "data": {
            "text/plain": [
              "<Figure size 432x288 with 1 Axes>"
            ],
            "image/png": "[encoded data removed]"
          },
          "metadata": {
            "needs_background": "light"
          }
        },
        {
          "output_type": "stream",
          "name": "stdout",
          "text": [
            "Epoch: 3 Batch: 0 WER: 0.91\n",
            "Epoch: 3 Batch: 50 WER: 0.87\n",
            "Epoch: 3 Batch: 100 WER: 1.07\n",
            "Epoch: 3 WER: 0.94\n"
          ]
        },
        {
          "output_type": "display_data",
          "data": {
            "text/plain": [
              "<Figure size 432x288 with 1 Axes>"
            ],
            "image/png": "[encoded data removed]"
          },
          "metadata": {
            "needs_background": "light"
          }
        },
        {
          "output_type": "stream",
          "name": "stdout",
          "text": [
            "Epoch: 4 Batch: 0 Loss: 2.4378\n",
            "Epoch: 4 Batch: 50 Loss: 1.7012\n",
            "Epoch: 4 Batch: 100 Loss: 2.1800\n",
            "Epoch: 4 Batch: 150 Loss: 2.2387\n",
            "Epoch: 4 Batch: 200 Loss: 2.5160\n",
            "Epoch: 4 Batch: 250 Loss: 1.8575\n",
            "Epoch: 4 Batch: 300 Loss: 1.9413\n",
            "Epoch: 4 Batch: 350 Loss: 2.2094\n",
            "Epoch: 4 Batch: 400 Loss: 2.1482\n",
            "Epoch: 4 Batch: 450 Loss: 1.5899\n",
            "Epoch: 4 Loss: 2.091576\n",
            "Time taken for 1 epoch 328.74 sec\n",
            "\n"
          ]
        },
        {
          "output_type": "display_data",
          "data": {
            "text/plain": [
              "<Figure size 432x288 with 1 Axes>"
            ],
            "image/png": "[encoded data removed]"
          },
          "metadata": {
            "needs_background": "light"
          }
        },
        {
          "output_type": "stream",
          "name": "stdout",
          "text": [
            "Epoch: 4 Batch: 0 WER: 1.07\n",
            "Epoch: 4 Batch: 50 WER: 1.06\n",
            "Epoch: 4 Batch: 100 WER: 1.11\n",
            "Epoch: 4 WER: 1.15\n"
          ]
        },
        {
          "output_type": "display_data",
          "data": {
            "text/plain": [
              "<Figure size 432x288 with 1 Axes>"
            ],
            "image/png": "[encoded data removed]"
          },
          "metadata": {
            "needs_background": "light"
          }
        },
        {
          "output_type": "stream",
          "name": "stdout",
          "text": [
            "Epoch: 5 Batch: 0 Loss: 1.6462\n",
            "Epoch: 5 Batch: 50 Loss: 2.1167\n",
            "Epoch: 5 Batch: 100 Loss: 1.7364\n",
            "Epoch: 5 Batch: 150 Loss: 1.8508\n",
            "Epoch: 5 Batch: 200 Loss: 1.9079\n",
            "Epoch: 5 Batch: 250 Loss: 1.8311\n",
            "Epoch: 5 Batch: 300 Loss: 2.1804\n",
            "Epoch: 5 Batch: 350 Loss: 2.0068\n",
            "Epoch: 5 Batch: 400 Loss: 1.7423\n",
            "Epoch: 5 Batch: 450 Loss: 1.2462\n",
            "Epoch: 5 Loss: 1.955620\n",
            "Time taken for 1 epoch 328.28 sec\n",
            "\n"
          ]
        },
        {
          "output_type": "display_data",
          "data": {
            "text/plain": [
              "<Figure size 432x288 with 1 Axes>"
            ],
            "image/png": "[encoded data removed]"
          },
          "metadata": {
            "needs_background": "light"
          }
        },
        {
          "output_type": "stream",
          "name": "stdout",
          "text": [
            "Epoch: 5 Batch: 0 WER: 1.15\n",
            "Epoch: 5 Batch: 50 WER: 0.90\n",
            "Epoch: 5 Batch: 100 WER: 0.91\n",
            "Epoch: 5 WER: 1.06\n"
          ]
        },
        {
          "output_type": "display_data",
          "data": {
            "text/plain": [
              "<Figure size 432x288 with 1 Axes>"
            ],
            "image/png": "[encoded data removed]"
          },
          "metadata": {
            "needs_background": "light"
          }
        },
        {
          "output_type": "stream",
          "name": "stdout",
          "text": [
            "Epoch: 6 Batch: 0 Loss: 1.6388\n",
            "Epoch: 6 Batch: 50 Loss: 1.5257\n",
            "Epoch: 6 Batch: 100 Loss: 2.0702\n",
            "Epoch: 6 Batch: 150 Loss: 2.0633\n",
            "Epoch: 6 Batch: 200 Loss: 1.9122\n",
            "Epoch: 6 Batch: 250 Loss: 1.9015\n",
            "Epoch: 6 Batch: 300 Loss: 1.9623\n",
            "Epoch: 6 Batch: 350 Loss: 1.8383\n",
            "Epoch: 6 Batch: 400 Loss: 1.7701\n",
            "Epoch: 6 Batch: 450 Loss: 2.1816\n",
            "Epoch: 6 Loss: 1.832435\n",
            "Time taken for 1 epoch 328.74 sec\n",
            "\n"
          ]
        },
        {
          "output_type": "display_data",
          "data": {
            "text/plain": [
              "<Figure size 432x288 with 1 Axes>"
            ],
            "image/png": "[encoded data removed]"
          },
          "metadata": {
            "needs_background": "light"
          }
        },
        {
          "output_type": "stream",
          "name": "stdout",
          "text": [
            "Epoch: 6 Batch: 0 WER: 1.57\n",
            "Epoch: 6 Batch: 50 WER: 1.58\n",
            "Epoch: 6 Batch: 100 WER: 1.47\n",
            "Epoch: 6 WER: 1.72\n"
          ]
        },
        {
          "output_type": "display_data",
          "data": {
            "text/plain": [
              "<Figure size 432x288 with 1 Axes>"
            ],
            "image/png": "[encoded data removed]"
          },
          "metadata": {
            "needs_background": "light"
          }
        },
        {
          "output_type": "stream",
          "name": "stdout",
          "text": [
            "Epoch: 7 Batch: 0 Loss: 1.3963\n",
            "Epoch: 7 Batch: 50 Loss: 1.7038\n",
            "Epoch: 7 Batch: 100 Loss: 1.5098\n",
            "Epoch: 7 Batch: 150 Loss: 1.6387\n",
            "Epoch: 7 Batch: 200 Loss: 1.5894\n",
            "Epoch: 7 Batch: 250 Loss: 1.7736\n",
            "Epoch: 7 Batch: 300 Loss: 1.6807\n",
            "Epoch: 7 Batch: 350 Loss: 1.7818\n",
            "Epoch: 7 Batch: 400 Loss: 1.5001\n",
            "Epoch: 7 Batch: 450 Loss: 1.5355\n",
            "Epoch: 7 Loss: 1.742345\n",
            "Time taken for 1 epoch 327.55 sec\n",
            "\n"
          ]
        },
        {
          "output_type": "display_data",
          "data": {
            "text/plain": [
              "<Figure size 432x288 with 1 Axes>"
            ],
            "image/png": "[encoded data removed]"
          },
          "metadata": {
            "needs_background": "light"
          }
        },
        {
          "output_type": "stream",
          "name": "stdout",
          "text": [
            "Epoch: 7 Batch: 0 WER: 1.61\n",
            "Epoch: 7 Batch: 50 WER: 1.60\n",
            "Epoch: 7 Batch: 100 WER: 1.44\n",
            "Epoch: 7 WER: 1.58\n"
          ]
        },
        {
          "output_type": "display_data",
          "data": {
            "text/plain": [
              "<Figure size 432x288 with 1 Axes>"
            ],
            "image/png": "[encoded data removed]"
          },
          "metadata": {
            "needs_background": "light"
          }
        },
        {
          "output_type": "stream",
          "name": "stdout",
          "text": [
            "Epoch: 8 Batch: 0 Loss: 1.4286\n",
            "Epoch: 8 Batch: 50 Loss: 1.5929\n",
            "Epoch: 8 Batch: 100 Loss: 1.9420\n",
            "Epoch: 8 Batch: 150 Loss: 1.6113\n",
            "Epoch: 8 Batch: 200 Loss: 1.6289\n",
            "Epoch: 8 Batch: 250 Loss: 1.6578\n",
            "Epoch: 8 Batch: 300 Loss: 1.7013\n",
            "Epoch: 8 Batch: 350 Loss: 2.0176\n",
            "Epoch: 8 Batch: 400 Loss: 1.5683\n",
            "Epoch: 8 Batch: 450 Loss: 1.3473\n",
            "Epoch: 8 Loss: 1.657716\n",
            "Time taken for 1 epoch 327.46 sec\n",
            "\n"
          ]
        },
        {
          "output_type": "display_data",
          "data": {
            "text/plain": [
              "<Figure size 432x288 with 1 Axes>"
            ],
            "image/png": "[encoded data removed]"
          },
          "metadata": {
            "needs_background": "light"
          }
        },
        {
          "output_type": "stream",
          "name": "stdout",
          "text": [
            "Epoch: 8 Batch: 0 WER: 1.80\n",
            "Epoch: 8 Batch: 50 WER: 1.40\n",
            "Epoch: 8 Batch: 100 WER: 1.22\n",
            "Epoch: 8 WER: 1.50\n"
          ]
        },
        {
          "output_type": "display_data",
          "data": {
            "text/plain": [
              "<Figure size 432x288 with 1 Axes>"
            ],
            "image/png": "[encoded data removed]"
          },
          "metadata": {
            "needs_background": "light"
          }
        },
        {
          "output_type": "stream",
          "name": "stdout",
          "text": [
            "Epoch: 9 Batch: 0 Loss: 1.8315\n",
            "Epoch: 9 Batch: 50 Loss: 1.5435\n",
            "Epoch: 9 Batch: 100 Loss: 1.4419\n",
            "Epoch: 9 Batch: 150 Loss: 1.6077\n",
            "Epoch: 9 Batch: 200 Loss: 1.9287\n",
            "Epoch: 9 Batch: 250 Loss: 1.6216\n",
            "Epoch: 9 Batch: 300 Loss: 1.8758\n",
            "Epoch: 9 Batch: 350 Loss: 1.5699\n",
            "Epoch: 9 Batch: 400 Loss: 1.5663\n",
            "Epoch: 9 Batch: 450 Loss: 1.5857\n",
            "Epoch: 9 Loss: 1.590024\n",
            "Time taken for 1 epoch 327.78 sec\n",
            "\n"
          ]
        },
        {
          "output_type": "display_data",
          "data": {
            "text/plain": [
              "<Figure size 432x288 with 1 Axes>"
            ],
            "image/png": "[encoded data removed]"
          },
          "metadata": {
            "needs_background": "light"
          }
        },
        {
          "output_type": "stream",
          "name": "stdout",
          "text": [
            "Epoch: 9 Batch: 0 WER: 1.24\n",
            "Epoch: 9 Batch: 50 WER: 1.13\n",
            "Epoch: 9 Batch: 100 WER: 1.00\n",
            "Epoch: 9 WER: 1.23\n"
          ]
        },
        {
          "output_type": "display_data",
          "data": {
            "text/plain": [
              "<Figure size 432x288 with 1 Axes>"
            ],
            "image/png": "[encoded data removed]"
          },
          "metadata": {
            "needs_background": "light"
          }
        },
        {
          "output_type": "stream",
          "name": "stdout",
          "text": [
            "Epoch: 10 Batch: 0 Loss: 1.4021\n",
            "Epoch: 10 Batch: 50 Loss: 1.2349\n",
            "Epoch: 10 Batch: 100 Loss: 1.3069\n",
            "Epoch: 10 Batch: 150 Loss: 1.9101\n",
            "Epoch: 10 Batch: 200 Loss: 1.5079\n",
            "Epoch: 10 Batch: 250 Loss: 1.3539\n",
            "Epoch: 10 Batch: 300 Loss: 1.3086\n",
            "Epoch: 10 Batch: 350 Loss: 1.9415\n",
            "Epoch: 10 Batch: 400 Loss: 1.7209\n",
            "Epoch: 10 Batch: 450 Loss: 1.2902\n",
            "Epoch: 10 Loss: 1.521950\n",
            "Time taken for 1 epoch 328.82 sec\n",
            "\n"
          ]
        },
        {
          "output_type": "display_data",
          "data": {
            "text/plain": [
              "<Figure size 432x288 with 1 Axes>"
            ],
            "image/png": "[encoded data removed]"
          },
          "metadata": {
            "needs_background": "light"
          }
        },
        {
          "output_type": "stream",
          "name": "stdout",
          "text": [
            "Epoch: 10 Batch: 0 WER: 1.57\n",
            "Epoch: 10 Batch: 50 WER: 1.58\n",
            "Epoch: 10 Batch: 100 WER: 1.20\n",
            "Epoch: 10 WER: 1.33\n"
          ]
        },
        {
          "output_type": "display_data",
          "data": {
            "text/plain": [
              "<Figure size 432x288 with 1 Axes>"
            ],
            "image/png": "[encoded data removed]"
          },
          "metadata": {
            "needs_background": "light"
          }
        },
        {
          "output_type": "stream",
          "name": "stdout",
          "text": [
            "Epoch: 11 Batch: 0 Loss: 1.5814\n",
            "Epoch: 11 Batch: 50 Loss: 1.3449\n",
            "Epoch: 11 Batch: 100 Loss: 1.3033\n",
            "Epoch: 11 Batch: 150 Loss: 1.6049\n",
            "Epoch: 11 Batch: 200 Loss: 1.3622\n",
            "Epoch: 11 Batch: 250 Loss: 1.6043\n",
            "Epoch: 11 Batch: 300 Loss: 1.4787\n",
            "Epoch: 11 Batch: 350 Loss: 1.5383\n",
            "Epoch: 11 Batch: 400 Loss: 1.4445\n",
            "Epoch: 11 Batch: 450 Loss: 1.2629\n",
            "Epoch: 11 Loss: 1.472016\n",
            "Time taken for 1 epoch 327.02 sec\n",
            "\n"
          ]
        },
        {
          "output_type": "display_data",
          "data": {
            "text/plain": [
              "<Figure size 432x288 with 1 Axes>"
            ],
            "image/png": "[encoded data removed]"
          },
          "metadata": {
            "needs_background": "light"
          }
        },
        {
          "output_type": "stream",
          "name": "stdout",
          "text": [
            "Epoch: 11 Batch: 0 WER: 0.91\n",
            "Epoch: 11 Batch: 50 WER: 0.88\n"
          ]
        }
      ]
    },
    {
      "cell_type": "code",
      "source": [
        "import time\n",
        "\n",
        "epochs = 60\n",
        "\n",
        "for epoch in range(20, epochs):\n",
        "    start = time.time()\n",
        "    total_loss = 0\n",
        "\n",
        "    for batch, (images, targets) in enumerate(train_ds):\n",
        "\n",
        "        batch_loss, t_loss = train_step(images, targets)\n",
        "        total_loss += t_loss\n",
        "\n",
        "        if batch % 50 == 0:\n",
        "            average_batch_loss = batch_loss.numpy() / int(targets.shape[1])\n",
        "            print(f'Epoch: {epoch + 1} Batch: {batch} Loss: {average_batch_loss:.4f}')\n",
        "\n",
        "    loss_plot.append(total_loss / train_ds.cardinality().numpy())\n",
        "\n",
        "    print(f'Epoch: {epoch + 1} Loss: {total_loss/train_ds.cardinality().numpy():.6f}')\n",
        "    print(f'Time taken for 1 epoch {time.time()-start:.2f} sec\\n')\n",
        "\n",
        "    plt.plot(loss_plot)\n",
        "    plt.show()\n",
        "\n",
        "    total_wer = 0\n",
        "    for batch, (images, targets) in enumerate(test_ds):\n",
        "        batch_wer = evaluate(images, targets)\n",
        "        total_wer += batch_wer\n",
        "\n",
        "        if batch % 50 == 0:\n",
        "            print(f'Epoch: {epoch + 1} Batch: {batch} WER: {batch_wer:.2f}')\n",
        "    \n",
        "    wer_plot.append(total_wer / test_ds.cardinality().numpy())\n",
        "\n",
        "    print(f'Epoch: {epoch + 1} WER: {total_wer/test_ds.cardinality().numpy():.2f}')\n",
        "\n",
        "    plt.plot(wer_plot)\n",
        "    plt.show()\n",
        "    \n",
        "\n",
        "    if epoch % 5 == 0:\n",
        "        ckpt_manager.save()"
      ],
      "metadata": {
        "id": "-P9QF2dUqrHl"
      },
      "execution_count": null,
      "outputs": []
    },
    {
      "cell_type": "markdown",
      "source": [
        " A WER of 5-10% is considered to be good quality and is ready to use. A WER of 20% is acceptable, but you might want to consider additional training. A WER of 30% or more signals poor quality and requires customization and training."
      ],
      "metadata": {
        "id": "5E-qSIaAqmd3"
      }
    },
    {
      "cell_type": "markdown",
      "source": [
        "## Save model"
      ],
      "metadata": {
        "id": "HL6ztBn1Y7VB"
      }
    },
    {
      "cell_type": "code",
      "source": [
        "plt.plot(loss_plot)"
      ],
      "metadata": {
        "colab": {
          "base_uri": "https://localhost:8080/",
          "height": 283
        },
        "id": "4XtBcVH3Wlfz",
        "outputId": "3cc0ccd0-c0e4-4fd1-cab1-8afbfdf466e9"
      },
      "execution_count": null,
      "outputs": [
        {
          "output_type": "execute_result",
          "data": {
            "text/plain": [
              "[<matplotlib.lines.Line2D at 0x7f7320d04e10>]"
            ]
          },
          "metadata": {},
          "execution_count": 35
        },
        {
          "output_type": "display_data",
          "data": {
            "text/plain": [
              "<Figure size 432x288 with 1 Axes>"
            ],
            "image/png": "[encoded data removed]"
          },
          "metadata": {
            "needs_background": "light"
          }
        }
      ]
    },
    {
      "cell_type": "code",
      "source": [
        "# save checkpoint\n",
        "!tar -czf drive/MyDrive/checkpoint/htr/checkpoints2.tar.gz ./checkpoints"
      ],
      "metadata": {
        "id": "1FKaKZpnR9Gi"
      },
      "execution_count": null,
      "outputs": []
    },
    {
      "cell_type": "code",
      "source": [
        "with open('drive/MyDrive/checkpoint/htr/loss_plot2.pkl', 'wb') as f:\n",
        "    pickle.dump(loss_plot, f)"
      ],
      "metadata": {
        "id": "gpPEqVeOUrvH"
      },
      "execution_count": null,
      "outputs": []
    },
    {
      "cell_type": "code",
      "source": [
        "from google.colab import drive\n",
        "drive.mount('/content/drive')"
      ],
      "metadata": {
        "id": "jdG1LjzT_fLj",
        "outputId": "b5756e34-40b6-49dc-9236-7344b68e7af2",
        "colab": {
          "base_uri": "https://localhost:8080/"
        }
      },
      "execution_count": null,
      "outputs": [
        {
          "output_type": "stream",
          "name": "stdout",
          "text": [
            "Mounted at /content/drive\n"
          ]
        }
      ]
    },
    {
      "cell_type": "code",
      "source": [
        "# extract checkpoint archive\n",
        "!tar -xf drive/MyDrive/checkpoint/htr/checkpoints.tar.gz -C ./"
      ],
      "metadata": {
        "id": "IisMzO3217MD"
      },
      "execution_count": null,
      "outputs": []
    },
    {
      "cell_type": "code",
      "source": [
        "# load checkpoint\n",
        "ckpt_path = tf.train.latest_checkpoint(checkpoint_path)\n",
        "ckpt.restore(ckpt_path)"
      ],
      "metadata": {
        "id": "AIsSSyl31_Zg",
        "outputId": "91e106bb-4447-44e8-fc60-7a28fb2be794",
        "colab": {
          "base_uri": "https://localhost:8080/"
        }
      },
      "execution_count": null,
      "outputs": [
        {
          "output_type": "execute_result",
          "data": {
            "text/plain": [
              "<tensorflow.python.training.tracking.util.CheckpointLoadStatus at 0x7f644c1d2550>"
            ]
          },
          "metadata": {},
          "execution_count": 20
        }
      ]
    },
    {
      "cell_type": "code",
      "source": [
        "with open('drive/MyDrive/checkpoint/htr/loss_plot.pkl', 'rb') as f:\n",
        "    loss_plot = pickle.load(f)"
      ],
      "metadata": {
        "id": "ZUdR-XS9VKmF"
      },
      "execution_count": null,
      "outputs": []
    },
    {
      "cell_type": "code",
      "source": [
        "for images, targets in train_ds:\n",
        "    for image, target in zip(images, targets):\n",
        "        # plt.figure(figsize=(15, 3))\n",
        "        # plt.imshow(1 - image)\n",
        "        # plt.show()\n",
        "        result, attention_plot = evaluate(image)\n",
        "        print(\"True:\", ' '.join([tf.compat.as_text(index_to_word(i).numpy()) for i in target if i.numpy() != 0]))\n",
        "        print('Pred:', ' '.join(result))\n",
        "    break"
      ],
      "metadata": {
        "id": "wnibACxFrAIP",
        "outputId": "2dcbf072-fc55-4161-a31c-808c0b10c110",
        "colab": {
          "base_uri": "https://localhost:8080/"
        }
      },
      "execution_count": null,
      "outputs": [
        {
          "output_type": "stream",
          "name": "stdout",
          "text": [
            "True: <start> Số 459 phố Kim Ngưu Phường Vĩnh Tuy Quận Hai Bà Trưng Hà Nội <end>\n",
            "Pred: Số 459 phố Kim Ngưu Phường Vĩnh Tuy Quận Hai Bà Trưng Hà Nội <end>\n",
            "True: <start> Km 948600 Quốc lộ 1A Xã Điện Thắng Bắc Huyện Điện Bàn Quảng Nam <end>\n",
            "Pred: Km 948600 Quốc lộ 5A Xã Bạch Thắng Huyện Long Thành Quảng Nam <end>\n",
            "True: <start> Khu 7 Thị Trấn ái Nghĩa Huyện Đại Lộc Quảng Nam <end>\n",
            "Pred: Khu 7 Thị Trấn ái Nghĩa Huyện Đại Lộc Quảng Nam <end>\n",
            "True: <start> Số 117 Hùng Vương Phường Sở Dầu Quận Hồng Bàng Hải Phòng <end>\n",
            "Pred: Số 117 Hùng Vương Phường Sở Nghé Quận Hà Đông Hà Nội <end>\n"
          ]
        }
      ]
    },
    {
      "cell_type": "code",
      "source": [
        "def plot_attention(image, result, attention_plot):\n",
        "\n",
        "    fig = plt.figure(figsize=(60, 12))\n",
        "\n",
        "    len_result = len(result)\n",
        "    for i in range(len_result):\n",
        "        temp_att = np.resize(attention_plot[i], (3, 59))\n",
        "        grid_size = max(int(np.ceil(len_result/2)), 2)\n",
        "        ax = fig.add_subplot(grid_size, grid_size, i+1)\n",
        "        ax.set_title(result[i])\n",
        "        img = ax.imshow(1 - image / tf.reduce_max(image))\n",
        "        ax.imshow(temp_att, cmap='gray', alpha=0.6, extent=img.get_extent())\n",
        "\n",
        "    plt.tight_layout()\n",
        "    plt.show()\n"
      ],
      "metadata": {
        "id": "iStYjWRGqrzH"
      },
      "execution_count": null,
      "outputs": []
    },
    {
      "cell_type": "code",
      "source": [
        "for images, targets in train_ds:\n",
        "    for image, target in zip(images, targets):\n",
        "        result, attention_plot = evaluate(image)\n",
        "        plot_attention(image, result, attention_plot)\n",
        "        print(\"True:\", ' '.join([tf.compat.as_text(index_to_word(i).numpy()) for i in target if i.numpy() != 0]))\n",
        "        print('Pred:', ' '.join(result))\n",
        "    break"
      ],
      "metadata": {
        "id": "F667KQru8Glf"
      },
      "execution_count": null,
      "outputs": []
    },
    {
      "cell_type": "code",
      "source": [
        ""
      ],
      "metadata": {
        "id": "UDzvg-qfvpfV",
        "colab": {
          "base_uri": "https://localhost:8080/"
        },
        "outputId": "1619a4fb-411e-47c3-8735-850c870a6b84"
      },
      "execution_count": null,
      "outputs": [
        {
          "output_type": "stream",
          "name": "stdout",
          "text": [
            "0.7592592592592593\n"
          ]
        }
      ]
    },
    {
      "cell_type": "code",
      "source": [
        "print(true_texts)\n",
        "print(pred_texts)"
      ],
      "metadata": {
        "colab": {
          "base_uri": "https://localhost:8080/"
        },
        "id": "03UDv5Tj9zkn",
        "outputId": "98fc0fe4-2aa2-47a7-bb34-48ffb2bb1965"
      },
      "execution_count": null,
      "outputs": [
        {
          "output_type": "stream",
          "name": "stdout",
          "text": [
            "['Số 10 đường Lý Văn Lâm Phường 1 Thành Phố Cà Mau Cà Mau', '271 Huỳnh Ngọc Huệ Phường Hoà Khê Quận Thanh Khê Đà Nẵng', 'Số [UNK] KP 9 Phường Hố Nai Thành Phố Biên Hoà Đồng Nai', 'Số [UNK] tổ 8 ấp Tân Hòa Xã Tân Tiến Huyện Bù Đốp Bình Phước']\n",
            "['Số nhà 71 phố 4 Phường Tân Tiến Thành phố Đồng Hới Quảng Trị', '729 âu Cơ Phường Thanh Khê Đông Quận Thanh Khê Đà Nẵng', 'Số 79 tổ 23 Phường Khương Đình Quận Cầu Giấy Hà Nội', 'Số 79 ngõ 328 Lê Lợi Xã Diên Khánh Huyện Diên Khánh Hà Nội']\n"
          ]
        }
      ]
    },
    {
      "cell_type": "code",
      "source": [
        ""
      ],
      "metadata": {
        "id": "cY2fAEUH9bAb"
      },
      "execution_count": 22,
      "outputs": []
    },
    {
      "cell_type": "code",
      "source": [
        "for image, target in zip(images, targets):\n",
        "    result, attention_plot = evaluate(image)\n",
        "    print(\"True:\", ' '.join([tf.compat.as_text(index_to_word(i).numpy()) for i in target if i.numpy() != 0]))\n",
        "    print('Pred:', ' '.join(result))"
      ],
      "metadata": {
        "colab": {
          "base_uri": "https://localhost:8080/"
        },
        "id": "sYUai8Kn8OSX",
        "outputId": "9120a674-fe0d-44d9-c137-7faa291d17c6"
      },
      "execution_count": null,
      "outputs": [
        {
          "output_type": "stream",
          "name": "stdout",
          "text": [
            "True: <start> Khu 3 Xã Cát Quế Huyện Hoài Đức Hà Nội <end>\n",
            "Pred: Khu 3 Xã Cát Quế Huyện Hoài Đức Hà Nội <end>\n",
            "True: <start> Số 79 Đường số 37 Khu phố 2 Phường 10 Quận 6 TP Hồ Chí Minh <end>\n",
            "Pred: Số 79 Đường số 37 Khu phố 2 Phường 10 Quận 6 TP Hồ Chí Minh <end>\n",
            "True: <start> Số 25 Nguyễn Bỉnh Khiêm Phường 8 Thành phố Cà Mau Cà Mau <end>\n",
            "Pred: Số 25 Nguyễn Bỉnh Khiêm Phường 8 Thành phố Cà Mau Cà Mau <end>\n",
            "True: <start> 271/7B An Dương Vương Phường 03 Quận 5 TP Hồ Chí Minh <end>\n",
            "Pred: 271/7B An Dương Vương Phường 03 Quận 5 TP Hồ Chí Minh <end>\n"
          ]
        }
      ]
    },
    {
      "cell_type": "markdown",
      "source": [
        "https://www.tensorflow.org/tutorials/text/image_captioning\n",
        "\n",
        "https://www.tensorflow.org/text/tutorials/nmt_with_attention\n",
        "\n",
        "https://colab.research.google.com/github/keras-team/keras-io/blob/master/examples/vision/ipynb/image_captioning.ipynb#scrollTo=StQK3dgDcri0\n",
        "\n",
        "https://keras.io/examples/nlp/neural_machine_translation_with_transformer/\n",
        "\n",
        "https://keras.io/examples/nlp/semantic_similarity_with_bert/\n"
      ],
      "metadata": {
        "id": "Z5CJxAyXC_KR"
      }
    },
    {
      "cell_type": "markdown",
      "source": [
        "## References\n",
        "1. https://arxiv.org/pdf/1703.09137.pdf\n",
        "2. https://viblo.asia/p/a-guide-to-image-captioning-part-1-gioi-thieu-bai-toan-sinh-mo-ta-cho-anh-gAm5yr88Kdb\n",
        "3. https://www.tensorflow.org/tutorials/text/image_captioning\n",
        "4. https://arxiv.org/pdf/1502.03044.pdf\n",
        "5. https://keras.io/examples/vision/image_captioning/\n",
        "6. https://machinelearningmastery.com/the-bahdanau-attention-mechanism/\n",
        "7. https://keras.io/examples/audio/ctc_asr/"
      ],
      "metadata": {
        "id": "wMh5GUVjinie"
      }
    }
  ]
}